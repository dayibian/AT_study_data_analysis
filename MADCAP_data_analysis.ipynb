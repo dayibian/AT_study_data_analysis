{
 "cells": [
  {
   "cell_type": "code",
   "execution_count": 95,
   "metadata": {},
   "outputs": [],
   "source": [
    "import time\n",
    "import numpy as np\n",
    "import pandas as pd\n",
    "import peakutils as pu\n",
    "from scipy import signal"
   ]
  },
  {
   "cell_type": "code",
   "execution_count": 37,
   "metadata": {},
   "outputs": [],
   "source": [
    "class AV_info:\n",
    "    def __init__(self, filename):\n",
    "        self.stimuli_duration = 50\n",
    "        self.rest_interval = 15\n",
    "        self.startsecs = 0\n",
    "        self.PID = ''\n",
    "        self.stimulus_order = []\n",
    "        self.stimulus_info = ['native_w_touch', 'native_w/o_touch',\n",
    "                              'nonnative_w_touch', 'nonnative_w/o_touch',\n",
    "                              'native_async_w_touch', 'native_async_w/o_touch']\n",
    "        with open(filename, 'r') as f:\n",
    "            self.lines = f.readlines()\n",
    "    def get_start_secs(self):\n",
    "        t = self.lines[1].split()\n",
    "        t = ':'.join(t[0].split(':')[:3])\n",
    "        d = self.lines[16].split()[2]\n",
    "        dt = d + ' ' + t\n",
    "        self.startsecs = time.mktime(time.strptime(dt, '%m/%d/%Y %H:%M:%S'))\n",
    "    def get_PID(self):\n",
    "        self.PID = self.lines[15].split()[2]\n",
    "    def get_order(self):\n",
    "        order = self.lines[18].split()[3:]\n",
    "        self.stimulus_order = [int(o) for o in order]\n",
    "    def process(self):\n",
    "        self.get_start_secs()\n",
    "        self.get_PID()\n",
    "        self.get_order()"
   ]
  },
  {
   "cell_type": "code",
   "execution_count": 85,
   "metadata": {},
   "outputs": [],
   "source": [
    "class Physio_data:\n",
    "    def __init__(self, startsecs, PID):\n",
    "        self.startsecs = startsecs\n",
    "        with open(PID+'/EDA.csv', 'r') as f:\n",
    "            EDA_lines = f.readlines()\n",
    "        with open(PID+'/BVP.csv', 'r') as f:\n",
    "            BVP_lines = f.readlines()\n",
    "        with open(PID+'/HR.csv', 'r') as f:\n",
    "            HR_lines = f.readlines()\n",
    "        with open(PID+'/IBI.csv', 'r') as f:\n",
    "            self.IBI_lines = f.readlines()\n",
    "        self.EDA_ = np.array([float(d.strip()) for d in EDA_lines])\n",
    "        self.BVP_ = np.array([float(d.strip()) for d in BVP_lines])\n",
    "        self.HR_ = np.array([float(d.strip()) for d in HR_lines])\n",
    "        self.IBI_ = pd.read_csv(PID+'/IBI.csv',skiprows=[0],names=['time','ibi'])\n",
    "    def get_EDA(self):\n",
    "        start_time = self.EDA_[0]\n",
    "        freq = int(self.EDA_[1])\n",
    "        offset = int(self.startsecs-start_time)\n",
    "        EDA_ = self.EDA_[offset+2:]\n",
    "        self.EDA = [EDA_[(50+15)*freq*i:(50+15)*freq*i+50*freq] for i in range(6)]\n",
    "    def get_BVP(self):\n",
    "        start_time = self.BVP_[0]\n",
    "        freq = int(self.BVP_[1])\n",
    "        offset = int(self.startsecs-start_time)\n",
    "        BVP_ = self.BVP_[offset+2:]\n",
    "        self.BVP = [BVP_[(50+15)*freq*i:(50+15)*freq*i+50*freq] for i in range(6)]\n",
    "    def get_HR(self):\n",
    "        start_time = self.HR_[0]\n",
    "        freq = int(self.HR_[1])\n",
    "        offset = int(self.startsecs-start_time)\n",
    "        HR_ = self.HR_[offset+2:]\n",
    "        self.HR = [HR_[(50+15)*freq*i:(50+15)*freq*i+50*freq] for i in range(6)]\n",
    "    def get_IBI(self):\n",
    "        start_time = float(self.IBI_lines[0].split(',')[0])\n",
    "        offset = int(self.startsecs-start_time)\n",
    "        time_intervals = [(offset+(50+15)*i, offset+(50+15)*i+50) for i in range(6)]\n",
    "        self.IBI = [[] for _ in range(6)]\n",
    "        for i in range(6):\n",
    "            interval = time_intervals[i]\n",
    "            trial = self.IBI_[self.IBI_.time<interval[1]][self.IBI_.time>interval[0]]\n",
    "            self.IBI[i] = trial.ibi.values\n",
    "    def process(self):\n",
    "        self.get_EDA()\n",
    "        self.get_BVP()\n",
    "        self.get_HR()\n",
    "        self.get_IBI()"
   ]
  },
  {
   "cell_type": "code",
   "execution_count": 101,
   "metadata": {},
   "outputs": [],
   "source": [
    "class Physio_features:\n",
    "    def __init__(self):\n",
    "        self.feature_names = ['hr', 'ibi', 'scl_mean', 'scl_std',\n",
    "                              'scr_rate', 'scr_mean', 'scr_std', 'scr_max']\n",
    "        self.features = [[] for _ in range(6)]\n",
    "    def extract_bvp_fv(self, hrs, ibis):\n",
    "        for i in range(6):\n",
    "            self.features[i].append(np.mean(hrs[i]))\n",
    "            self.features[i].append(np.mean(ibis[i]))\n",
    "    def extract_eda_fv(self, edas):\n",
    "        for i in range(6):\n",
    "            eda = edas[i]\n",
    "            scr,scl = self.decompose_eda(eda)\n",
    "            self.features[i].append(np.mean(scl))\n",
    "            self.features[i].append(np.std(scl))\n",
    "            for fv in self.compute_scr_fv(scr):\n",
    "                self.features[i].append(fv)\n",
    "    def decompose_eda(self, eda):\n",
    "        \"\"\"Decompose EDA signal into SCR and SCL respectively.\"\"\"\n",
    "        if len(eda)<20:\n",
    "            return 'NA','NA'\n",
    "        b,a = signal.butter(4,0.5/2)\n",
    "        gsr_filt = signal.filtfilt(b,a,eda)\n",
    "        b,a = signal.butter(4,0.05/2,'highpass')\n",
    "        scr = signal.filtfilt(b,a,gsr_filt)\n",
    "        scl = [x-y for x,y in zip(gsr_filt,scr)]\n",
    "        return scr,scl\n",
    "    def compute_scr_fv(self, scr):\n",
    "        #peaks = signal.find_peaks_cwt(scr_lp,np.arange(1,20))\n",
    "        if scr == 'NA':\n",
    "            return 'NA','NA','NA','NA'\n",
    "\n",
    "        peaks = pu.indexes(scr,0.6,15)\n",
    "        t = len(scr)/float(4*60)\n",
    "        scr_rate = len(peaks)/t\n",
    "\n",
    "        responses = [scr[i] for i in peaks]\n",
    "        scr_mean = np.mean(responses)\n",
    "        scr_sd = np.std(responses)\n",
    "        scr_max = np.max(responses)\n",
    "        return scr_rate, scr_mean, scr_sd, scr_max"
   ]
  },
  {
   "cell_type": "code",
   "execution_count": 99,
   "metadata": {},
   "outputs": [
    {
     "data": {
      "text/plain": [
       "<__main__.Physio_data at 0x257545d6278>"
      ]
     },
     "execution_count": 99,
     "metadata": {},
     "output_type": "execute_result"
    }
   ],
   "source": [
    "physioData"
   ]
  },
  {
   "cell_type": "code",
   "execution_count": 102,
   "metadata": {},
   "outputs": [],
   "source": [
    "feature_test = Physio_features()"
   ]
  },
  {
   "cell_type": "code",
   "execution_count": 103,
   "metadata": {},
   "outputs": [
    {
     "name": "stderr",
     "output_type": "stream",
     "text": [
      "C:\\Users\\biand\\AppData\\Local\\Continuum\\anaconda3\\lib\\site-packages\\ipykernel_launcher.py:30: FutureWarning: elementwise comparison failed; returning scalar instead, but in the future will perform elementwise comparison\n"
     ]
    }
   ],
   "source": [
    "feature_test.extract_bvp_fv(physioData.HR,physioData.IBI)\n",
    "feature_test.extract_eda_fv(physioData.EDA)"
   ]
  },
  {
   "cell_type": "code",
   "execution_count": 104,
   "metadata": {},
   "outputs": [
    {
     "data": {
      "text/plain": [
       "['hr',\n",
       " 'ibi',\n",
       " 'scl_mean',\n",
       " 'scl_std',\n",
       " 'scr_rate',\n",
       " 'scr_mean',\n",
       " 'scr_std',\n",
       " 'scr_max']"
      ]
     },
     "execution_count": 104,
     "metadata": {},
     "output_type": "execute_result"
    }
   ],
   "source": [
    "feature_test.feature_names"
   ]
  },
  {
   "cell_type": "code",
   "execution_count": 105,
   "metadata": {},
   "outputs": [
    {
     "data": {
      "text/plain": [
       "[[171.4194,\n",
       "  0.388462546511628,\n",
       "  0.128116792045257,\n",
       "  0.00479168589552,\n",
       "  7.199999999999999,\n",
       "  0.0013393513960035105,\n",
       "  0.0004737418601264578,\n",
       "  0.00234067515437222],\n",
       " [158.70420000000001,\n",
       "  0.38080442592592584,\n",
       "  0.14990170995979593,\n",
       "  0.004588525675728073,\n",
       "  9.6,\n",
       "  0.0011098420805003895,\n",
       "  0.0005326472392542174,\n",
       "  0.002206878544793829],\n",
       " [155.1818,\n",
       "  0.41913682352941173,\n",
       "  0.16912669760129628,\n",
       "  0.004453271095625084,\n",
       "  9.6,\n",
       "  0.0013326492666581933,\n",
       "  0.0003919540909926174,\n",
       "  0.002200998620443187],\n",
       " [164.1764,\n",
       "  0.41033554794520544,\n",
       "  0.18645284177271118,\n",
       "  0.0039645430451851135,\n",
       "  8.4,\n",
       "  0.0012540538534380147,\n",
       "  0.00039604661380679087,\n",
       "  0.0017487519925772376],\n",
       " [134.9242,\n",
       "  0.48211835416666665,\n",
       "  0.20302161711659694,\n",
       "  0.0034304353249951227,\n",
       "  9.6,\n",
       "  0.0008396170663348584,\n",
       "  0.0005124505154166972,\n",
       "  0.001497079207713209],\n",
       " [129.5772,\n",
       "  0.46564627499999994,\n",
       "  0.21906771734682104,\n",
       "  0.003534262968227336,\n",
       "  8.4,\n",
       "  0.0009580637776001879,\n",
       "  0.0009477051655013599,\n",
       "  0.0025156671996596396]]"
      ]
     },
     "execution_count": 105,
     "metadata": {},
     "output_type": "execute_result"
    }
   ],
   "source": [
    "feature_test.features"
   ]
  },
  {
   "cell_type": "code",
   "execution_count": null,
   "metadata": {},
   "outputs": [],
   "source": []
  }
 ],
 "metadata": {
  "kernelspec": {
   "display_name": "Python 3",
   "language": "python",
   "name": "python3"
  },
  "language_info": {
   "codemirror_mode": {
    "name": "ipython",
    "version": 3
   },
   "file_extension": ".py",
   "mimetype": "text/x-python",
   "name": "python",
   "nbconvert_exporter": "python",
   "pygments_lexer": "ipython3",
   "version": "3.6.5"
  }
 },
 "nbformat": 4,
 "nbformat_minor": 2
}
