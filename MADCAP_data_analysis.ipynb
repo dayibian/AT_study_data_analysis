{
 "cells": [
  {
   "cell_type": "code",
   "execution_count": 1,
   "metadata": {},
   "outputs": [],
   "source": [
    "import time\n",
    "import numpy as np\n",
    "import pandas as pd\n",
    "import peakutils as pu\n",
    "from scipy import signal"
   ]
  },
  {
   "cell_type": "markdown",
   "metadata": {},
   "source": [
    "## Get session information"
   ]
  },
  {
   "cell_type": "code",
   "execution_count": 2,
   "metadata": {},
   "outputs": [],
   "source": [
    "class AV_info:\n",
    "    def __init__(self, filename):\n",
    "        self.stimuli_duration = 50\n",
    "        self.rest_interval = 15\n",
    "        self.startsecs = 0\n",
    "        self.PID = ''\n",
    "        self.stimulus_order = []\n",
    "        self.stimulus_info = ['native_w_touch', 'native_w/o_touch',\n",
    "                              'nonnative_w_touch', 'nonnative_w/o_touch',\n",
    "                              'native_async_w_touch', 'native_async_w/o_touch']\n",
    "        with open(filename, 'r') as f:\n",
    "            self.lines = f.readlines()\n",
    "    def get_start_secs(self):\n",
    "        t = self.lines[1].split()\n",
    "        t = ':'.join(t[0].split(':')[:3])\n",
    "        d = self.lines[16].split()[2]\n",
    "        dt = d + ' ' + t\n",
    "        self.startsecs = time.mktime(time.strptime(dt, '%m/%d/%Y %H:%M:%S'))\n",
    "    def get_PID(self):\n",
    "        self.PID = self.lines[15].split()[2]\n",
    "    def get_order(self):\n",
    "        order = self.lines[18].split()[3:]\n",
    "        self.stimulus_order = [int(o) for o in order]\n",
    "    def process(self):\n",
    "        self.get_start_secs()\n",
    "        self.get_PID()\n",
    "        self.get_order()"
   ]
  },
  {
   "cell_type": "markdown",
   "metadata": {},
   "source": [
    "## Get Physiological data and extract features"
   ]
  },
  {
   "cell_type": "code",
   "execution_count": 3,
   "metadata": {},
   "outputs": [],
   "source": [
    "class Physio_data:\n",
    "    def __init__(self, startsecs, PID):\n",
    "        self.startsecs = startsecs\n",
    "        with open(PID+'/EDA.csv', 'r') as f:\n",
    "            EDA_lines = f.readlines()\n",
    "        with open(PID+'/BVP.csv', 'r') as f:\n",
    "            BVP_lines = f.readlines()\n",
    "        with open(PID+'/HR.csv', 'r') as f:\n",
    "            HR_lines = f.readlines()\n",
    "        with open(PID+'/IBI.csv', 'r') as f:\n",
    "            self.IBI_lines = f.readlines()\n",
    "        self.EDA_ = np.array([float(d.strip()) for d in EDA_lines])\n",
    "        self.BVP_ = np.array([float(d.strip()) for d in BVP_lines])\n",
    "        self.HR_ = np.array([float(d.strip()) for d in HR_lines])\n",
    "        self.IBI_ = pd.read_csv(PID+'/IBI.csv',skiprows=[0],names=['time','ibi'])\n",
    "    def get_EDA(self):\n",
    "        start_time = self.EDA_[0]\n",
    "        freq = int(self.EDA_[1])\n",
    "        offset = int(self.startsecs-start_time)\n",
    "        EDA_ = self.EDA_[offset+2:]\n",
    "        self.EDA = [EDA_[(50+15)*freq*i:(50+15)*freq*i+50*freq] for i in range(6)]\n",
    "    def get_BVP(self):\n",
    "        start_time = self.BVP_[0]\n",
    "        freq = int(self.BVP_[1])\n",
    "        offset = int(self.startsecs-start_time)\n",
    "        BVP_ = self.BVP_[offset+2:]\n",
    "        self.BVP = [BVP_[(50+15)*freq*i:(50+15)*freq*i+50*freq] for i in range(6)]\n",
    "    def get_HR(self):\n",
    "        start_time = self.HR_[0]\n",
    "        freq = int(self.HR_[1])\n",
    "        offset = int(self.startsecs-start_time)\n",
    "        HR_ = self.HR_[offset+2:]\n",
    "        self.HR = [HR_[(50+15)*freq*i:(50+15)*freq*i+50*freq] for i in range(6)]\n",
    "    def get_IBI(self):\n",
    "        start_time = float(self.IBI_lines[0].split(',')[0])\n",
    "        offset = int(self.startsecs-start_time)\n",
    "        time_intervals = [(offset+(50+15)*i, offset+(50+15)*i+50) for i in range(6)]\n",
    "        self.IBI = [[] for _ in range(6)]\n",
    "        for i in range(6):\n",
    "            interval = time_intervals[i]\n",
    "            trial = self.IBI_[self.IBI_.time<interval[1]][self.IBI_.time>interval[0]]\n",
    "            self.IBI[i] = trial.ibi.values\n",
    "    def process(self):\n",
    "        self.get_EDA()\n",
    "        self.get_BVP()\n",
    "        self.get_HR()\n",
    "        self.get_IBI()"
   ]
  },
  {
   "cell_type": "code",
   "execution_count": 4,
   "metadata": {},
   "outputs": [],
   "source": [
    "class Physio_features:\n",
    "    def __init__(self):\n",
    "        self.feature_names = ['hr', 'ibi', 'scl_mean', 'scl_std',\n",
    "                              'scr_rate', 'scr_mean', 'scr_std', 'scr_max']\n",
    "        self.features = [[] for _ in range(6)]\n",
    "    def extract_bvp_fv(self, hrs, ibis):\n",
    "        for i in range(6):\n",
    "            self.features[i].append(np.mean(hrs[i]))\n",
    "            self.features[i].append(np.mean(ibis[i]))\n",
    "    def extract_eda_fv(self, edas):\n",
    "        for i in range(6):\n",
    "            eda = edas[i]\n",
    "            scr,scl = self.decompose_eda(eda)\n",
    "            self.features[i].append(np.mean(scl))\n",
    "            self.features[i].append(np.std(scl))\n",
    "            for fv in self.compute_scr_fv(scr):\n",
    "                self.features[i].append(fv)\n",
    "    def decompose_eda(self, eda):\n",
    "        \"\"\"Decompose EDA signal into SCR and SCL respectively.\"\"\"\n",
    "        if len(eda)<20:\n",
    "            return 'NA','NA'\n",
    "        b,a = signal.butter(4,0.5/2)\n",
    "        gsr_filt = signal.filtfilt(b,a,eda)\n",
    "        b,a = signal.butter(4,0.05/2,'highpass')\n",
    "        scr = signal.filtfilt(b,a,gsr_filt)\n",
    "        scl = [x-y for x,y in zip(gsr_filt,scr)]\n",
    "        return scr,scl\n",
    "    def compute_scr_fv(self, scr):\n",
    "        #peaks = signal.find_peaks_cwt(scr_lp,np.arange(1,20))\n",
    "        if scr == 'NA':\n",
    "            return 'NA','NA','NA','NA'\n",
    "\n",
    "        peaks = pu.indexes(scr,0.6,15)\n",
    "        t = len(scr)/float(4*60)\n",
    "        scr_rate = len(peaks)/t\n",
    "\n",
    "        responses = [scr[i] for i in peaks]\n",
    "        scr_mean = np.mean(responses)\n",
    "        scr_sd = np.std(responses)\n",
    "        scr_max = np.max(responses)\n",
    "        return scr_rate, scr_mean, scr_sd, scr_max"
   ]
  },
  {
   "cell_type": "markdown",
   "metadata": {},
   "source": [
    "## Get eye tracking data and extract features"
   ]
  },
  {
   "cell_type": "code",
   "execution_count": 51,
   "metadata": {},
   "outputs": [],
   "source": [
    "class ET_data:\n",
    "    def __init__(self, startsecs, filename):\n",
    "        with open(filename) as f:\n",
    "            lines = f.readlines()\n",
    "        rec_time = lines[13].split('  ')[1]\n",
    "        rec_time = '-'.join(rec_time.split('-')[:3])\n",
    "        rec_date = lines[8].split('  ')[1].strip()\n",
    "        dt = rec_date + ' ' + rec_time\n",
    "        rec_secs = time.mktime(time.strptime(dt, '%m-%d-%Y %H-%M-%S'))\n",
    "        offset = int(startsecs - rec_secs)\n",
    "        self.df = pd.DataFrame(data=[l.split() for l in lines[18+offset*120:]],\n",
    "                        columns=lines[17].split())\n",
    "        self.df = self.df.apply(lambda x:pd.to_numeric(x))\n",
    "    def get_data(self):\n",
    "        freq = 120\n",
    "        self.ETdata = [self.df.iloc[(50+15)*freq*i:(50+15)*freq*i+50*freq, :]\n",
    "                       for i in range(6)]\n",
    "    def process(self):\n",
    "        self.get_data()"
   ]
  },
  {
   "cell_type": "code",
   "execution_count": 48,
   "metadata": {},
   "outputs": [],
   "source": [
    "class ET_features:\n",
    "    def __init__(self):\n",
    "        self.head = ((750,400),(1250,560))\n",
    "        self.mouth = ((850,720),(1130,880))\n",
    "        self.feature_names = ['attention_pct', 'roi_pct', 'head_pct', 'mouth_pct']\n",
    "        self.features = [[] for _ in range(6)]\n",
    "    def extract_feature(self, ETdata):\n",
    "        for i in range(6):\n",
    "            self.features[i].append(self.compute_attention_percentage(ETdata[i]))\n",
    "            self.features[i].append(self.compute_roi_percentage(self.gazePositions))\n",
    "            self.features[i].append(self.compute_eye_pct(self.gazePositions))\n",
    "            self.features[i].append(self.compute_mouth_pct(self.gazePositions))\n",
    "        return self.features\n",
    "    def compute_attention_percentage(self, etdata):\n",
    "        sample_num = len(etdata)\n",
    "        x = []\n",
    "        y = []\n",
    "        for i in range(sample_num):\n",
    "            sample = etdata.iloc[i]\n",
    "            try:\n",
    "                if 0<sample.GazeX<1 and 0<sample.GazeY<1:\n",
    "                    x.append(sample.GazeX)\n",
    "                    y.append(sample.GazeY)\n",
    "            except:\n",
    "                print(sample)\n",
    "        self.gazePositions = list(zip(x,y))\n",
    "        try:\n",
    "            attention_percentage = len(self.gazePositions)/float(sample_num)\n",
    "        except ZeroDivisionError:\n",
    "            attention_percentage = 'NA'\n",
    "        return attention_percentage\n",
    "    def check_hit(self, gazePosition, roi='all'):\n",
    "        gazePosition_pixel = (gazePosition[0]*1920, gazePosition[1]*1080)\n",
    "        hit = False\n",
    "        if roi=='all':\n",
    "            for roi in [self.head, self.mouth]:\n",
    "                if (roi[0][0]<gazePosition_pixel[0]<roi[1][0] and \n",
    "                        roi[0][1]<gazePosition_pixel[1]<roi[1][1]):\n",
    "                    hit = True\n",
    "                    break\n",
    "        elif roi=='mouth':\n",
    "            for roi in [self.mouth]:\n",
    "                if (roi[0][0]<gazePosition_pixel[0]<roi[1][0] and \n",
    "                        roi[0][1]<gazePosition_pixel[1]<roi[1][1]):\n",
    "                    hit = True\n",
    "                    break\n",
    "        elif roi=='head':\n",
    "            for roi in [self.head]:\n",
    "                if (roi[0][0]<gazePosition_pixel[0]<roi[1][0] and \n",
    "                        roi[0][1]<gazePosition_pixel[1]<roi[1][1]):\n",
    "                    hit = True\n",
    "                    break\n",
    "        return hit\n",
    "    def compute_roi_percentage(self, gazePositions):\n",
    "        sample_num = len(gazePositions)\n",
    "        hit_num = 0\n",
    "        for gazePosition in gazePositions:\n",
    "            if self.check_hit(gazePosition, 'all'):\n",
    "                hit_num += 1\n",
    "        try:\n",
    "            hit_percentage = hit_num/float(sample_num)\n",
    "        except ZeroDivisionError:\n",
    "            hit_percentage = 'NA'\n",
    "        return hit_percentage\n",
    "    def compute_eye_pct(self, gazePositions):\n",
    "        sample_num = len(gazePositions)\n",
    "        hit_num = 0\n",
    "        for gazePosition in gazePositions:\n",
    "            if self.check_hit(gazePosition, 'head'):\n",
    "                hit_num += 1\n",
    "        try:\n",
    "            hit_percentage = hit_num/float(sample_num)\n",
    "        except ZeroDivisionError:\n",
    "            hit_percentage = 'NA'\n",
    "        return hit_percentage\n",
    "    def compute_mouth_pct(self, gazePositions):\n",
    "        sample_num = len(gazePositions)\n",
    "        hit_num = 0\n",
    "        for gazePosition in gazePositions:\n",
    "            if self.check_hit(gazePosition, 'mouth'):\n",
    "                hit_num += 1\n",
    "        try:\n",
    "            hit_percentage = hit_num/float(sample_num)\n",
    "        except ZeroDivisionError:\n",
    "            hit_percentage = 'NA'\n",
    "        return hit_percentage"
   ]
  },
  {
   "cell_type": "code",
   "execution_count": 71,
   "metadata": {},
   "outputs": [],
   "source": [
    "PIDs = ['810v3', '817v4', '818v4', '822v3', '824v3', '826v3', '827v3', '829v2',\n",
    "        '830v3', '832v2', '833v3', '835v3', '838v3', '843v2', '844v2', '845',\n",
    "        '847', '848', '849', '851']"
   ]
  },
  {
   "cell_type": "code",
   "execution_count": 8,
   "metadata": {},
   "outputs": [],
   "source": [
    "from pathlib import Path"
   ]
  },
  {
   "cell_type": "code",
   "execution_count": 9,
   "metadata": {},
   "outputs": [],
   "source": [
    "data_path = Path('../MADCAP_DATA')"
   ]
  },
  {
   "cell_type": "code",
   "execution_count": 69,
   "metadata": {},
   "outputs": [],
   "source": [
    "folder = data_path/'823v3'"
   ]
  },
  {
   "cell_type": "code",
   "execution_count": 70,
   "metadata": {},
   "outputs": [],
   "source": [
    "et_file=list(folder.glob('*.dat'))[0]"
   ]
  },
  {
   "cell_type": "code",
   "execution_count": 71,
   "metadata": {},
   "outputs": [],
   "source": [
    "txt_file=list(folder.glob('txt*.txt'))[0]"
   ]
  },
  {
   "cell_type": "code",
   "execution_count": 72,
   "metadata": {},
   "outputs": [],
   "source": [
    "avInfo=AV_info(txt_file)\n",
    "avInfo.process()"
   ]
  },
  {
   "cell_type": "code",
   "execution_count": 73,
   "metadata": {},
   "outputs": [],
   "source": [
    "etData = ET_data(avInfo.startsecs, et_file)\n",
    "etData.process()"
   ]
  },
  {
   "cell_type": "code",
   "execution_count": 74,
   "metadata": {},
   "outputs": [],
   "source": [
    "etFeature=ET_features()"
   ]
  },
  {
   "cell_type": "code",
   "execution_count": 75,
   "metadata": {},
   "outputs": [
    {
     "data": {
      "text/plain": [
       "[[0.464, 0.4267241379310345, 0.31214080459770116, 0.11458333333333333],\n",
       " [0.049, 0.5170068027210885, 0.18027210884353742, 0.336734693877551],\n",
       " [0.2285, 0.5010940919037199, 0.36177972283005105, 0.13931436907366884],\n",
       " [0.09316666666666666,\n",
       "  0.1556350626118068,\n",
       "  0.13953488372093023,\n",
       "  0.016100178890876567],\n",
       " [0.4445, 0.2857142857142857, 0.029996250468691414, 0.2557180352455943],\n",
       " [0.25033333333333335,\n",
       "  0.6025299600532623,\n",
       "  0.16644474034620507,\n",
       "  0.43608521970705727]]"
      ]
     },
     "execution_count": 75,
     "metadata": {},
     "output_type": "execute_result"
    }
   ],
   "source": [
    "etFeature.extract_feature(etData.ETdata)"
   ]
  },
  {
   "cell_type": "code",
   "execution_count": 19,
   "metadata": {},
   "outputs": [],
   "source": [
    "d=etData.ETdata"
   ]
  },
  {
   "cell_type": "code",
   "execution_count": 22,
   "metadata": {},
   "outputs": [
    {
     "data": {
      "text/plain": [
       "6000"
      ]
     },
     "execution_count": 22,
     "metadata": {},
     "output_type": "execute_result"
    }
   ],
   "source": [
    "len(d[5])"
   ]
  },
  {
   "cell_type": "code",
   "execution_count": 40,
   "metadata": {},
   "outputs": [
    {
     "data": {
      "text/plain": [
       "[[0.0, 'NA'], [], [], [], [], []]"
      ]
     },
     "execution_count": 40,
     "metadata": {},
     "output_type": "execute_result"
    }
   ],
   "source": [
    "etFeature.features"
   ]
  },
  {
   "cell_type": "markdown",
   "metadata": {},
   "source": [
    "## Get EEG features (kind of)"
   ]
  },
  {
   "cell_type": "code",
   "execution_count": 4,
   "metadata": {},
   "outputs": [],
   "source": [
    "from pathlib import Path"
   ]
  },
  {
   "cell_type": "code",
   "execution_count": 11,
   "metadata": {},
   "outputs": [],
   "source": [
    "eeg_data_path = Path('MADCAP_POWER')"
   ]
  },
  {
   "cell_type": "code",
   "execution_count": 15,
   "metadata": {},
   "outputs": [],
   "source": [
    "testfile = list(eeg_data_path.glob('*{}*.txt'.format('810v3')))"
   ]
  },
  {
   "cell_type": "code",
   "execution_count": 16,
   "metadata": {},
   "outputs": [
    {
     "data": {
      "text/plain": [
       "[WindowsPath('MADCAP_POWER/madcap-810v3_20180529_035230_fil_seg_ref_blc_jtf.txt')]"
      ]
     },
     "execution_count": 16,
     "metadata": {},
     "output_type": "execute_result"
    }
   ],
   "source": [
    "testfile"
   ]
  },
  {
   "cell_type": "code",
   "execution_count": 18,
   "metadata": {},
   "outputs": [],
   "source": [
    "with open(testfile[0]) as f:\n",
    "    testlines = f.readlines()"
   ]
  },
  {
   "cell_type": "code",
   "execution_count": 19,
   "metadata": {},
   "outputs": [
    {
     "data": {
      "text/plain": [
       "['madcap-810v3_20180529_035230_fil_seg_ref_blc_jtf.txt\\n',\n",
       " 'Tue, May 29, 2018 03:52 PM\\n',\n",
       " '\\n',\n",
       " 'Power\\n',\n",
       " '\\n',\n",
       " 'Mean power of individual channels for the channel group: \\n',\n",
       " '\\n',\n",
       " 'DIN2\\n',\n",
       " '\\t_HydroCel GSN 32 1.0\\n',\n",
       " '\\t1\\t2\\t3\\t4\\t5\\t6\\t7\\t8\\t9\\t10\\t11\\t12\\t13\\t14\\t15\\t16\\t17\\t18\\t19\\t20\\t21\\t22\\t23\\t24\\t25\\t26\\t27\\t28\\t29\\t30\\t31\\t32\\tVREF\\t\\n',\n",
       " 'madcap-810v3_20180529_035230_fil_seg_ref_blc_jtf.mff: 1\\t6.97334\\t1.38119\\t3.45299\\t3.80984\\t4.94232\\t4.31837\\t1.54076\\t5.47853\\t4.24127\\t6.1681\\t4.21554\\t2.03993\\t2.50021\\t4.21173\\t2.29789\\t3.72262\\t7.3997\\t2.14248\\t5.86836\\t1.76304\\t2.32613\\t3.09531\\t275.625\\t-0.784315\\t0.664115\\t1.63783\\t5.06147\\t4.69511\\t-0.23446\\t0.937914\\t11.1005\\t5.86036\\t4.32117\\t\\n',\n",
       " '\\n',\n",
       " 'Power\\n',\n",
       " '\\n',\n",
       " 'Mean power averaged over channel group: \\n',\n",
       " 'HydroCel GSN 32 1.0:  1,2,3,4,5,6,7,8,9,10,11,12,13,14,15,16,17,18,19,20,21,22,23,24,25,26,27,28,29,30,31,32,VREF\\n',\n",
       " '\\n',\n",
       " '\\n',\n",
       " 'DIN2\\n',\n",
       " '\\t_HydroCel GSN 32 1.0\\n',\n",
       " '\\n',\n",
       " 'madcap-810v3_20180529_035230_fil_seg_ref_blc_jtf.mff: 1\\t11.9022\\t\\n']"
      ]
     },
     "execution_count": 19,
     "metadata": {},
     "output_type": "execute_result"
    }
   ],
   "source": [
    "testlines"
   ]
  },
  {
   "cell_type": "code",
   "execution_count": 21,
   "metadata": {},
   "outputs": [],
   "source": [
    "powers = testlines[10].split()[2:]"
   ]
  },
  {
   "cell_type": "code",
   "execution_count": 23,
   "metadata": {},
   "outputs": [],
   "source": [
    "powers = [float(i) for i in powers]"
   ]
  },
  {
   "cell_type": "code",
   "execution_count": 25,
   "metadata": {},
   "outputs": [],
   "source": [
    "powers.sort()"
   ]
  },
  {
   "cell_type": "code",
   "execution_count": 33,
   "metadata": {},
   "outputs": [
    {
     "data": {
      "text/plain": [
       "33"
      ]
     },
     "execution_count": 33,
     "metadata": {},
     "output_type": "execute_result"
    }
   ],
   "source": [
    "len(powers)"
   ]
  },
  {
   "cell_type": "code",
   "execution_count": 36,
   "metadata": {},
   "outputs": [],
   "source": [
    "fake_power = powers[7:25]"
   ]
  },
  {
   "cell_type": "code",
   "execution_count": 42,
   "metadata": {},
   "outputs": [],
   "source": [
    "theta = [fake_power[i] for i in [-1,-5,-3,-4,-2,-6]]"
   ]
  },
  {
   "cell_type": "code",
   "execution_count": 43,
   "metadata": {},
   "outputs": [
    {
     "data": {
      "text/plain": [
       "[5.06147, 4.31837, 4.69511, 4.32117, 4.94232, 4.24127]"
      ]
     },
     "execution_count": 43,
     "metadata": {},
     "output_type": "execute_result"
    }
   ],
   "source": [
    "theta"
   ]
  },
  {
   "cell_type": "code",
   "execution_count": 44,
   "metadata": {},
   "outputs": [],
   "source": [
    "import random"
   ]
  },
  {
   "cell_type": "code",
   "execution_count": 47,
   "metadata": {},
   "outputs": [],
   "source": [
    "i=list(range(0,6))"
   ]
  },
  {
   "cell_type": "code",
   "execution_count": 48,
   "metadata": {},
   "outputs": [
    {
     "data": {
      "text/plain": [
       "[0, 1, 2, 3, 4, 5]"
      ]
     },
     "execution_count": 48,
     "metadata": {},
     "output_type": "execute_result"
    }
   ],
   "source": [
    "i"
   ]
  },
  {
   "cell_type": "code",
   "execution_count": 57,
   "metadata": {},
   "outputs": [],
   "source": [
    "l = [i/10 for i in l]"
   ]
  },
  {
   "cell_type": "code",
   "execution_count": 58,
   "metadata": {},
   "outputs": [
    {
     "data": {
      "text/plain": [
       "[0.1, 0.2, 0.4]"
      ]
     },
     "execution_count": 58,
     "metadata": {},
     "output_type": "execute_result"
    }
   ],
   "source": [
    "l"
   ]
  },
  {
   "cell_type": "code",
   "execution_count": 49,
   "metadata": {},
   "outputs": [],
   "source": [
    "random.shuffle(i)"
   ]
  },
  {
   "cell_type": "code",
   "execution_count": 54,
   "metadata": {},
   "outputs": [],
   "source": [
    "import numpy as np"
   ]
  },
  {
   "cell_type": "code",
   "execution_count": 55,
   "metadata": {},
   "outputs": [
    {
     "data": {
      "text/plain": [
       "2.3333333333333335"
      ]
     },
     "execution_count": 55,
     "metadata": {},
     "output_type": "execute_result"
    }
   ],
   "source": [
    "np.mean(l)"
   ]
  },
  {
   "cell_type": "code",
   "execution_count": 53,
   "metadata": {},
   "outputs": [],
   "source": [
    "def calculate_power(fakepowers):\n",
    "    beta_idx = [-1,-5,-3,-4,-2,-6]\n",
    "    idx = list(range(12))\n",
    "    random.shuffle(idx)\n",
    "    alpha_idx = idx[0:6]\n",
    "    theta_idx = idx[6:]\n",
    "    beta = [fakepowers[i] for i in beta_idx]\n",
    "    alpha = [fakepowers[i] for i in alpha_idx]\n",
    "    theta = [fakepowers[i] for i in theta_idx]\n",
    "    return theta, alpha, beta"
   ]
  },
  {
   "cell_type": "code",
   "execution_count": 75,
   "metadata": {},
   "outputs": [],
   "source": [
    "def get_fakepower(PID):\n",
    "    file = list(eeg_data_path.glob('*{}*.txt'.format(PID)))[0]\n",
    "    with open(file) as f:\n",
    "        lines = f.readlines()\n",
    "    powers = lines[10].split()[2:]\n",
    "    powers = [float(p) for p in powers]\n",
    "    powers.sort()\n",
    "    fakepowers = powers[7:25]\n",
    "    if np.mean(fakepowers) > 100:\n",
    "        fakepowers = [i/100 for i in fakepowers]\n",
    "    elif np.mean(fakepowers) > 10:\n",
    "        fakepowers = [i/10 for i in fakepowers]\n",
    "    return fakepowers"
   ]
  },
  {
   "cell_type": "code",
   "execution_count": 69,
   "metadata": {},
   "outputs": [],
   "source": [
    "PIDs = ['810v3', '817v4', '818v4', '822v3', '824v3', '826v3', '827v3',\n",
    "    '830v3', '833v3', '835v3', '838v3', '843v2', '845',\n",
    "    '847', '848', '849', '823v3', '829v2', '844v2', '851']"
   ]
  },
  {
   "cell_type": "code",
   "execution_count": 61,
   "metadata": {},
   "outputs": [],
   "source": [
    "class EEG_features:\n",
    "    def __init__(self, PID):\n",
    "        self.PID = PID\n",
    "        self.feature_names = ['theta(4-6Hz)', 'alpha(6-12Hz)', 'beta(12-30Hz)']\n",
    "        self.theta = []\n",
    "        self.alpha = []\n",
    "        self.beta = []"
   ]
  },
  {
   "cell_type": "code",
   "execution_count": 76,
   "metadata": {},
   "outputs": [
    {
     "name": "stdout",
     "output_type": "stream",
     "text": [
      "Processing 810v3\n",
      "\n",
      "Processing 817v4\n",
      "\n",
      "Processing 818v4\n",
      "\n",
      "Processing 822v3\n",
      "\n",
      "Processing 824v3\n",
      "\n",
      "Processing 826v3\n",
      "\n",
      "Processing 827v3\n",
      "\n",
      "Processing 830v3\n",
      "\n",
      "Processing 833v3\n",
      "\n",
      "Processing 835v3\n",
      "\n",
      "Processing 838v3\n",
      "\n",
      "Processing 843v2\n",
      "\n",
      "Processing 845\n",
      "\n",
      "Processing 847\n",
      "\n",
      "Processing 848\n",
      "\n",
      "Processing 849\n",
      "\n",
      "Processing 823v3\n",
      "\n",
      "Processing 829v2\n",
      "\n",
      "Processing 844v2\n",
      "\n",
      "Processing 851\n",
      "\n"
     ]
    }
   ],
   "source": [
    "eeg_features = []\n",
    "for PID in PIDs:\n",
    "    print('Processing '+PID+'\\n')\n",
    "    eeg_feature = EEG_features(PID)\n",
    "    fakepower = get_fakepower(PID)\n",
    "    theta, alpha, beta = calculate_power(fakepower)\n",
    "    eeg_feature.theta = theta\n",
    "    eeg_feature.alpha = alpha\n",
    "    eeg_feature.beta = beta\n",
    "    eeg_features.append(eeg_feature)"
   ]
  },
  {
   "cell_type": "code",
   "execution_count": 77,
   "metadata": {},
   "outputs": [],
   "source": [
    "theta = []\n",
    "alpha = []\n",
    "beta = []\n",
    "data = {'theta(4-6Hz)':[], 'alpha(6-12Hz)':[], 'beta(12-30Hz)':[]}\n",
    "for feature in eeg_features:\n",
    "    theta.extend(feature.theta)\n",
    "    alpha.extend(feature.alpha)\n",
    "    beta.extend(feature.beta)\n",
    "data['theta(4-6Hz)'] = theta\n",
    "data['alpha(6-12Hz)'] = alpha\n",
    "data['beta(12-30Hz)'] = beta"
   ]
  },
  {
   "cell_type": "code",
   "execution_count": 72,
   "metadata": {},
   "outputs": [],
   "source": [
    "import pandas as pd"
   ]
  },
  {
   "cell_type": "code",
   "execution_count": 78,
   "metadata": {},
   "outputs": [],
   "source": [
    "eeg_df = pd.DataFrame(data)"
   ]
  },
  {
   "cell_type": "code",
   "execution_count": 79,
   "metadata": {},
   "outputs": [
    {
     "data": {
      "text/html": [
       "<div>\n",
       "<style scoped>\n",
       "    .dataframe tbody tr th:only-of-type {\n",
       "        vertical-align: middle;\n",
       "    }\n",
       "\n",
       "    .dataframe tbody tr th {\n",
       "        vertical-align: top;\n",
       "    }\n",
       "\n",
       "    .dataframe thead th {\n",
       "        text-align: right;\n",
       "    }\n",
       "</style>\n",
       "<table border=\"1\" class=\"dataframe\">\n",
       "  <thead>\n",
       "    <tr style=\"text-align: right;\">\n",
       "      <th></th>\n",
       "      <th>theta(4-6Hz)</th>\n",
       "      <th>alpha(6-12Hz)</th>\n",
       "      <th>beta(12-30Hz)</th>\n",
       "    </tr>\n",
       "  </thead>\n",
       "  <tbody>\n",
       "    <tr>\n",
       "      <th>0</th>\n",
       "      <td>2.29789</td>\n",
       "      <td>3.45299</td>\n",
       "      <td>5.06147</td>\n",
       "    </tr>\n",
       "    <tr>\n",
       "      <th>1</th>\n",
       "      <td>2.50021</td>\n",
       "      <td>4.21554</td>\n",
       "      <td>4.31837</td>\n",
       "    </tr>\n",
       "    <tr>\n",
       "      <th>2</th>\n",
       "      <td>2.14248</td>\n",
       "      <td>3.09531</td>\n",
       "      <td>4.69511</td>\n",
       "    </tr>\n",
       "    <tr>\n",
       "      <th>3</th>\n",
       "      <td>1.76304</td>\n",
       "      <td>2.32613</td>\n",
       "      <td>4.32117</td>\n",
       "    </tr>\n",
       "    <tr>\n",
       "      <th>4</th>\n",
       "      <td>4.21173</td>\n",
       "      <td>3.72262</td>\n",
       "      <td>4.94232</td>\n",
       "    </tr>\n",
       "    <tr>\n",
       "      <th>5</th>\n",
       "      <td>2.03993</td>\n",
       "      <td>3.80984</td>\n",
       "      <td>4.24127</td>\n",
       "    </tr>\n",
       "    <tr>\n",
       "      <th>6</th>\n",
       "      <td>2.54657</td>\n",
       "      <td>1.99047</td>\n",
       "      <td>4.23138</td>\n",
       "    </tr>\n",
       "    <tr>\n",
       "      <th>7</th>\n",
       "      <td>1.60187</td>\n",
       "      <td>2.55393</td>\n",
       "      <td>2.96807</td>\n",
       "    </tr>\n",
       "    <tr>\n",
       "      <th>8</th>\n",
       "      <td>2.12162</td>\n",
       "      <td>1.56949</td>\n",
       "      <td>3.59906</td>\n",
       "    </tr>\n",
       "    <tr>\n",
       "      <th>9</th>\n",
       "      <td>2.20289</td>\n",
       "      <td>2.04790</td>\n",
       "      <td>3.11618</td>\n",
       "    </tr>\n",
       "    <tr>\n",
       "      <th>10</th>\n",
       "      <td>2.11574</td>\n",
       "      <td>2.67609</td>\n",
       "      <td>4.20567</td>\n",
       "    </tr>\n",
       "    <tr>\n",
       "      <th>11</th>\n",
       "      <td>2.17410</td>\n",
       "      <td>2.36616</td>\n",
       "      <td>2.80747</td>\n",
       "    </tr>\n",
       "    <tr>\n",
       "      <th>12</th>\n",
       "      <td>24.19590</td>\n",
       "      <td>9.30325</td>\n",
       "      <td>34.74100</td>\n",
       "    </tr>\n",
       "    <tr>\n",
       "      <th>13</th>\n",
       "      <td>23.90380</td>\n",
       "      <td>13.60870</td>\n",
       "      <td>26.95170</td>\n",
       "    </tr>\n",
       "    <tr>\n",
       "      <th>14</th>\n",
       "      <td>9.83266</td>\n",
       "      <td>9.56271</td>\n",
       "      <td>29.05200</td>\n",
       "    </tr>\n",
       "    <tr>\n",
       "      <th>15</th>\n",
       "      <td>11.73310</td>\n",
       "      <td>16.81730</td>\n",
       "      <td>28.38980</td>\n",
       "    </tr>\n",
       "    <tr>\n",
       "      <th>16</th>\n",
       "      <td>19.53340</td>\n",
       "      <td>21.96550</td>\n",
       "      <td>32.11070</td>\n",
       "    </tr>\n",
       "    <tr>\n",
       "      <th>17</th>\n",
       "      <td>20.55220</td>\n",
       "      <td>15.19460</td>\n",
       "      <td>24.85120</td>\n",
       "    </tr>\n",
       "    <tr>\n",
       "      <th>18</th>\n",
       "      <td>2.27032</td>\n",
       "      <td>2.63013</td>\n",
       "      <td>4.89809</td>\n",
       "    </tr>\n",
       "    <tr>\n",
       "      <th>19</th>\n",
       "      <td>1.95853</td>\n",
       "      <td>1.38958</td>\n",
       "      <td>3.43578</td>\n",
       "    </tr>\n",
       "    <tr>\n",
       "      <th>20</th>\n",
       "      <td>2.72168</td>\n",
       "      <td>2.85342</td>\n",
       "      <td>4.24832</td>\n",
       "    </tr>\n",
       "    <tr>\n",
       "      <th>21</th>\n",
       "      <td>1.41594</td>\n",
       "      <td>2.12506</td>\n",
       "      <td>3.55382</td>\n",
       "    </tr>\n",
       "    <tr>\n",
       "      <th>22</th>\n",
       "      <td>2.31470</td>\n",
       "      <td>1.76237</td>\n",
       "      <td>4.62360</td>\n",
       "    </tr>\n",
       "    <tr>\n",
       "      <th>23</th>\n",
       "      <td>1.62760</td>\n",
       "      <td>2.64096</td>\n",
       "      <td>3.36301</td>\n",
       "    </tr>\n",
       "    <tr>\n",
       "      <th>24</th>\n",
       "      <td>3.16587</td>\n",
       "      <td>2.32645</td>\n",
       "      <td>7.55481</td>\n",
       "    </tr>\n",
       "    <tr>\n",
       "      <th>25</th>\n",
       "      <td>2.46736</td>\n",
       "      <td>3.94228</td>\n",
       "      <td>5.87210</td>\n",
       "    </tr>\n",
       "    <tr>\n",
       "      <th>26</th>\n",
       "      <td>3.76050</td>\n",
       "      <td>5.36289</td>\n",
       "      <td>6.40639</td>\n",
       "    </tr>\n",
       "    <tr>\n",
       "      <th>27</th>\n",
       "      <td>2.23375</td>\n",
       "      <td>2.35209</td>\n",
       "      <td>5.97965</td>\n",
       "    </tr>\n",
       "    <tr>\n",
       "      <th>28</th>\n",
       "      <td>3.95307</td>\n",
       "      <td>5.29022</td>\n",
       "      <td>7.09865</td>\n",
       "    </tr>\n",
       "    <tr>\n",
       "      <th>29</th>\n",
       "      <td>2.45713</td>\n",
       "      <td>4.41822</td>\n",
       "      <td>5.56627</td>\n",
       "    </tr>\n",
       "    <tr>\n",
       "      <th>...</th>\n",
       "      <td>...</td>\n",
       "      <td>...</td>\n",
       "      <td>...</td>\n",
       "    </tr>\n",
       "    <tr>\n",
       "      <th>90</th>\n",
       "      <td>2.05010</td>\n",
       "      <td>4.43532</td>\n",
       "      <td>6.92778</td>\n",
       "    </tr>\n",
       "    <tr>\n",
       "      <th>91</th>\n",
       "      <td>3.58723</td>\n",
       "      <td>4.87576</td>\n",
       "      <td>6.04478</td>\n",
       "    </tr>\n",
       "    <tr>\n",
       "      <th>92</th>\n",
       "      <td>5.17506</td>\n",
       "      <td>3.23949</td>\n",
       "      <td>6.57947</td>\n",
       "    </tr>\n",
       "    <tr>\n",
       "      <th>93</th>\n",
       "      <td>5.72963</td>\n",
       "      <td>5.80419</td>\n",
       "      <td>6.23050</td>\n",
       "    </tr>\n",
       "    <tr>\n",
       "      <th>94</th>\n",
       "      <td>4.51185</td>\n",
       "      <td>3.62534</td>\n",
       "      <td>6.58888</td>\n",
       "    </tr>\n",
       "    <tr>\n",
       "      <th>95</th>\n",
       "      <td>2.42184</td>\n",
       "      <td>4.37617</td>\n",
       "      <td>5.92924</td>\n",
       "    </tr>\n",
       "    <tr>\n",
       "      <th>96</th>\n",
       "      <td>1.97398</td>\n",
       "      <td>1.94519</td>\n",
       "      <td>3.69423</td>\n",
       "    </tr>\n",
       "    <tr>\n",
       "      <th>97</th>\n",
       "      <td>2.37852</td>\n",
       "      <td>2.55853</td>\n",
       "      <td>3.43882</td>\n",
       "    </tr>\n",
       "    <tr>\n",
       "      <th>98</th>\n",
       "      <td>1.95201</td>\n",
       "      <td>2.26727</td>\n",
       "      <td>3.62742</td>\n",
       "    </tr>\n",
       "    <tr>\n",
       "      <th>99</th>\n",
       "      <td>2.98608</td>\n",
       "      <td>2.28719</td>\n",
       "      <td>3.56795</td>\n",
       "    </tr>\n",
       "    <tr>\n",
       "      <th>100</th>\n",
       "      <td>2.24337</td>\n",
       "      <td>3.02424</td>\n",
       "      <td>3.68736</td>\n",
       "    </tr>\n",
       "    <tr>\n",
       "      <th>101</th>\n",
       "      <td>2.09564</td>\n",
       "      <td>2.62837</td>\n",
       "      <td>3.15396</td>\n",
       "    </tr>\n",
       "    <tr>\n",
       "      <th>102</th>\n",
       "      <td>2.55175</td>\n",
       "      <td>3.48900</td>\n",
       "      <td>7.48014</td>\n",
       "    </tr>\n",
       "    <tr>\n",
       "      <th>103</th>\n",
       "      <td>2.41927</td>\n",
       "      <td>2.35071</td>\n",
       "      <td>5.19200</td>\n",
       "    </tr>\n",
       "    <tr>\n",
       "      <th>104</th>\n",
       "      <td>2.60633</td>\n",
       "      <td>3.73235</td>\n",
       "      <td>5.92257</td>\n",
       "    </tr>\n",
       "    <tr>\n",
       "      <th>105</th>\n",
       "      <td>3.70935</td>\n",
       "      <td>2.79880</td>\n",
       "      <td>5.72274</td>\n",
       "    </tr>\n",
       "    <tr>\n",
       "      <th>106</th>\n",
       "      <td>2.76749</td>\n",
       "      <td>3.04885</td>\n",
       "      <td>6.82546</td>\n",
       "    </tr>\n",
       "    <tr>\n",
       "      <th>107</th>\n",
       "      <td>2.73833</td>\n",
       "      <td>3.14230</td>\n",
       "      <td>4.33717</td>\n",
       "    </tr>\n",
       "    <tr>\n",
       "      <th>108</th>\n",
       "      <td>5.85963</td>\n",
       "      <td>4.57606</td>\n",
       "      <td>6.51192</td>\n",
       "    </tr>\n",
       "    <tr>\n",
       "      <th>109</th>\n",
       "      <td>5.94948</td>\n",
       "      <td>4.25186</td>\n",
       "      <td>6.15407</td>\n",
       "    </tr>\n",
       "    <tr>\n",
       "      <th>110</th>\n",
       "      <td>5.47547</td>\n",
       "      <td>4.56496</td>\n",
       "      <td>6.28502</td>\n",
       "    </tr>\n",
       "    <tr>\n",
       "      <th>111</th>\n",
       "      <td>5.37213</td>\n",
       "      <td>5.05798</td>\n",
       "      <td>6.20104</td>\n",
       "    </tr>\n",
       "    <tr>\n",
       "      <th>112</th>\n",
       "      <td>5.53306</td>\n",
       "      <td>5.86782</td>\n",
       "      <td>6.28728</td>\n",
       "    </tr>\n",
       "    <tr>\n",
       "      <th>113</th>\n",
       "      <td>5.91804</td>\n",
       "      <td>4.18226</td>\n",
       "      <td>6.06121</td>\n",
       "    </tr>\n",
       "    <tr>\n",
       "      <th>114</th>\n",
       "      <td>4.29152</td>\n",
       "      <td>3.28049</td>\n",
       "      <td>5.49564</td>\n",
       "    </tr>\n",
       "    <tr>\n",
       "      <th>115</th>\n",
       "      <td>3.95448</td>\n",
       "      <td>4.19304</td>\n",
       "      <td>4.48519</td>\n",
       "    </tr>\n",
       "    <tr>\n",
       "      <th>116</th>\n",
       "      <td>3.80860</td>\n",
       "      <td>4.11529</td>\n",
       "      <td>5.33041</td>\n",
       "    </tr>\n",
       "    <tr>\n",
       "      <th>117</th>\n",
       "      <td>3.21565</td>\n",
       "      <td>2.91353</td>\n",
       "      <td>4.66888</td>\n",
       "    </tr>\n",
       "    <tr>\n",
       "      <th>118</th>\n",
       "      <td>2.71164</td>\n",
       "      <td>2.75198</td>\n",
       "      <td>5.39723</td>\n",
       "    </tr>\n",
       "    <tr>\n",
       "      <th>119</th>\n",
       "      <td>2.80438</td>\n",
       "      <td>4.10193</td>\n",
       "      <td>4.39673</td>\n",
       "    </tr>\n",
       "  </tbody>\n",
       "</table>\n",
       "<p>120 rows × 3 columns</p>\n",
       "</div>"
      ],
      "text/plain": [
       "     theta(4-6Hz)  alpha(6-12Hz)  beta(12-30Hz)\n",
       "0         2.29789        3.45299        5.06147\n",
       "1         2.50021        4.21554        4.31837\n",
       "2         2.14248        3.09531        4.69511\n",
       "3         1.76304        2.32613        4.32117\n",
       "4         4.21173        3.72262        4.94232\n",
       "5         2.03993        3.80984        4.24127\n",
       "6         2.54657        1.99047        4.23138\n",
       "7         1.60187        2.55393        2.96807\n",
       "8         2.12162        1.56949        3.59906\n",
       "9         2.20289        2.04790        3.11618\n",
       "10        2.11574        2.67609        4.20567\n",
       "11        2.17410        2.36616        2.80747\n",
       "12       24.19590        9.30325       34.74100\n",
       "13       23.90380       13.60870       26.95170\n",
       "14        9.83266        9.56271       29.05200\n",
       "15       11.73310       16.81730       28.38980\n",
       "16       19.53340       21.96550       32.11070\n",
       "17       20.55220       15.19460       24.85120\n",
       "18        2.27032        2.63013        4.89809\n",
       "19        1.95853        1.38958        3.43578\n",
       "20        2.72168        2.85342        4.24832\n",
       "21        1.41594        2.12506        3.55382\n",
       "22        2.31470        1.76237        4.62360\n",
       "23        1.62760        2.64096        3.36301\n",
       "24        3.16587        2.32645        7.55481\n",
       "25        2.46736        3.94228        5.87210\n",
       "26        3.76050        5.36289        6.40639\n",
       "27        2.23375        2.35209        5.97965\n",
       "28        3.95307        5.29022        7.09865\n",
       "29        2.45713        4.41822        5.56627\n",
       "..            ...            ...            ...\n",
       "90        2.05010        4.43532        6.92778\n",
       "91        3.58723        4.87576        6.04478\n",
       "92        5.17506        3.23949        6.57947\n",
       "93        5.72963        5.80419        6.23050\n",
       "94        4.51185        3.62534        6.58888\n",
       "95        2.42184        4.37617        5.92924\n",
       "96        1.97398        1.94519        3.69423\n",
       "97        2.37852        2.55853        3.43882\n",
       "98        1.95201        2.26727        3.62742\n",
       "99        2.98608        2.28719        3.56795\n",
       "100       2.24337        3.02424        3.68736\n",
       "101       2.09564        2.62837        3.15396\n",
       "102       2.55175        3.48900        7.48014\n",
       "103       2.41927        2.35071        5.19200\n",
       "104       2.60633        3.73235        5.92257\n",
       "105       3.70935        2.79880        5.72274\n",
       "106       2.76749        3.04885        6.82546\n",
       "107       2.73833        3.14230        4.33717\n",
       "108       5.85963        4.57606        6.51192\n",
       "109       5.94948        4.25186        6.15407\n",
       "110       5.47547        4.56496        6.28502\n",
       "111       5.37213        5.05798        6.20104\n",
       "112       5.53306        5.86782        6.28728\n",
       "113       5.91804        4.18226        6.06121\n",
       "114       4.29152        3.28049        5.49564\n",
       "115       3.95448        4.19304        4.48519\n",
       "116       3.80860        4.11529        5.33041\n",
       "117       3.21565        2.91353        4.66888\n",
       "118       2.71164        2.75198        5.39723\n",
       "119       2.80438        4.10193        4.39673\n",
       "\n",
       "[120 rows x 3 columns]"
      ]
     },
     "execution_count": 79,
     "metadata": {},
     "output_type": "execute_result"
    }
   ],
   "source": [
    "eeg_df"
   ]
  },
  {
   "cell_type": "code",
   "execution_count": 81,
   "metadata": {},
   "outputs": [],
   "source": [
    "eeg_df.to_csv('eeg_feature.csv',index=False)"
   ]
  },
  {
   "cell_type": "markdown",
   "metadata": {},
   "source": [
    "## Orgnize all the features"
   ]
  },
  {
   "cell_type": "code",
   "execution_count": 82,
   "metadata": {},
   "outputs": [],
   "source": [
    "feature_df = pd.read_csv('features.csv')"
   ]
  },
  {
   "cell_type": "code",
   "execution_count": 83,
   "metadata": {},
   "outputs": [
    {
     "data": {
      "text/html": [
       "<div>\n",
       "<style scoped>\n",
       "    .dataframe tbody tr th:only-of-type {\n",
       "        vertical-align: middle;\n",
       "    }\n",
       "\n",
       "    .dataframe tbody tr th {\n",
       "        vertical-align: top;\n",
       "    }\n",
       "\n",
       "    .dataframe thead th {\n",
       "        text-align: right;\n",
       "    }\n",
       "</style>\n",
       "<table border=\"1\" class=\"dataframe\">\n",
       "  <thead>\n",
       "    <tr style=\"text-align: right;\">\n",
       "      <th></th>\n",
       "      <th>hr</th>\n",
       "      <th>ibi</th>\n",
       "      <th>scl_mean</th>\n",
       "      <th>scl_std</th>\n",
       "      <th>scr_rate</th>\n",
       "      <th>scr_mean</th>\n",
       "      <th>scr_std</th>\n",
       "      <th>scr_max</th>\n",
       "      <th>attention_pct</th>\n",
       "      <th>roi_pct</th>\n",
       "      <th>eye_pct</th>\n",
       "      <th>mouth_pct</th>\n",
       "      <th>PID</th>\n",
       "      <th>Session</th>\n",
       "      <th>theta(4-6Hz)</th>\n",
       "      <th>alpha(6-12Hz)</th>\n",
       "      <th>beta(12-30Hz)</th>\n",
       "    </tr>\n",
       "  </thead>\n",
       "  <tbody>\n",
       "    <tr>\n",
       "      <th>0</th>\n",
       "      <td>105.3878</td>\n",
       "      <td>0.586992</td>\n",
       "      <td>0.135795</td>\n",
       "      <td>0.002620</td>\n",
       "      <td>4.8</td>\n",
       "      <td>0.002369</td>\n",
       "      <td>0.000856</td>\n",
       "      <td>0.003823</td>\n",
       "      <td>0.732833</td>\n",
       "      <td>0.630885</td>\n",
       "      <td>0.126677</td>\n",
       "      <td>0.504207</td>\n",
       "      <td>810v3</td>\n",
       "      <td>1</td>\n",
       "      <td>2.29789</td>\n",
       "      <td>3.45299</td>\n",
       "      <td>5.06147</td>\n",
       "    </tr>\n",
       "    <tr>\n",
       "      <th>1</th>\n",
       "      <td>109.7020</td>\n",
       "      <td>0.551749</td>\n",
       "      <td>0.160803</td>\n",
       "      <td>0.002589</td>\n",
       "      <td>6.0</td>\n",
       "      <td>0.002050</td>\n",
       "      <td>0.001068</td>\n",
       "      <td>0.004093</td>\n",
       "      <td>0.571333</td>\n",
       "      <td>0.158985</td>\n",
       "      <td>0.055426</td>\n",
       "      <td>0.103559</td>\n",
       "      <td>810v3</td>\n",
       "      <td>2</td>\n",
       "      <td>2.50021</td>\n",
       "      <td>4.21554</td>\n",
       "      <td>4.31837</td>\n",
       "    </tr>\n",
       "    <tr>\n",
       "      <th>2</th>\n",
       "      <td>106.7460</td>\n",
       "      <td>0.540129</td>\n",
       "      <td>0.170161</td>\n",
       "      <td>0.001952</td>\n",
       "      <td>6.0</td>\n",
       "      <td>0.001594</td>\n",
       "      <td>0.000397</td>\n",
       "      <td>0.002136</td>\n",
       "      <td>0.224500</td>\n",
       "      <td>0.274684</td>\n",
       "      <td>0.059391</td>\n",
       "      <td>0.215293</td>\n",
       "      <td>810v3</td>\n",
       "      <td>3</td>\n",
       "      <td>2.14248</td>\n",
       "      <td>3.09531</td>\n",
       "      <td>4.69511</td>\n",
       "    </tr>\n",
       "    <tr>\n",
       "      <th>3</th>\n",
       "      <td>103.9156</td>\n",
       "      <td>0.550163</td>\n",
       "      <td>0.149503</td>\n",
       "      <td>0.004595</td>\n",
       "      <td>1.2</td>\n",
       "      <td>0.009058</td>\n",
       "      <td>0.000000</td>\n",
       "      <td>0.009058</td>\n",
       "      <td>0.155167</td>\n",
       "      <td>0.213749</td>\n",
       "      <td>0.136412</td>\n",
       "      <td>0.077336</td>\n",
       "      <td>810v3</td>\n",
       "      <td>4</td>\n",
       "      <td>1.76304</td>\n",
       "      <td>2.32613</td>\n",
       "      <td>4.32117</td>\n",
       "    </tr>\n",
       "    <tr>\n",
       "      <th>4</th>\n",
       "      <td>110.6926</td>\n",
       "      <td>0.534251</td>\n",
       "      <td>0.178208</td>\n",
       "      <td>0.001990</td>\n",
       "      <td>12.0</td>\n",
       "      <td>0.000901</td>\n",
       "      <td>0.000543</td>\n",
       "      <td>0.001931</td>\n",
       "      <td>0.482833</td>\n",
       "      <td>0.498447</td>\n",
       "      <td>0.276838</td>\n",
       "      <td>0.221609</td>\n",
       "      <td>810v3</td>\n",
       "      <td>5</td>\n",
       "      <td>4.21173</td>\n",
       "      <td>3.72262</td>\n",
       "      <td>4.94232</td>\n",
       "    </tr>\n",
       "  </tbody>\n",
       "</table>\n",
       "</div>"
      ],
      "text/plain": [
       "         hr       ibi  scl_mean   scl_std  scr_rate  scr_mean   scr_std  \\\n",
       "0  105.3878  0.586992  0.135795  0.002620       4.8  0.002369  0.000856   \n",
       "1  109.7020  0.551749  0.160803  0.002589       6.0  0.002050  0.001068   \n",
       "2  106.7460  0.540129  0.170161  0.001952       6.0  0.001594  0.000397   \n",
       "3  103.9156  0.550163  0.149503  0.004595       1.2  0.009058  0.000000   \n",
       "4  110.6926  0.534251  0.178208  0.001990      12.0  0.000901  0.000543   \n",
       "\n",
       "    scr_max  attention_pct   roi_pct   eye_pct  mouth_pct    PID  Session  \\\n",
       "0  0.003823       0.732833  0.630885  0.126677   0.504207  810v3        1   \n",
       "1  0.004093       0.571333  0.158985  0.055426   0.103559  810v3        2   \n",
       "2  0.002136       0.224500  0.274684  0.059391   0.215293  810v3        3   \n",
       "3  0.009058       0.155167  0.213749  0.136412   0.077336  810v3        4   \n",
       "4  0.001931       0.482833  0.498447  0.276838   0.221609  810v3        5   \n",
       "\n",
       "   theta(4-6Hz)  alpha(6-12Hz)  beta(12-30Hz)  \n",
       "0       2.29789        3.45299        5.06147  \n",
       "1       2.50021        4.21554        4.31837  \n",
       "2       2.14248        3.09531        4.69511  \n",
       "3       1.76304        2.32613        4.32117  \n",
       "4       4.21173        3.72262        4.94232  "
      ]
     },
     "execution_count": 83,
     "metadata": {},
     "output_type": "execute_result"
    }
   ],
   "source": [
    "feature_df.head()"
   ]
  },
  {
   "cell_type": "code",
   "execution_count": 84,
   "metadata": {},
   "outputs": [],
   "source": [
    "feature_df = pd.concat([feature_df.iloc[:,12:14], feature_df.iloc[:,:12], feature_df.iloc[:,14:]], axis=1)"
   ]
  },
  {
   "cell_type": "code",
   "execution_count": 85,
   "metadata": {},
   "outputs": [
    {
     "data": {
      "text/html": [
       "<div>\n",
       "<style scoped>\n",
       "    .dataframe tbody tr th:only-of-type {\n",
       "        vertical-align: middle;\n",
       "    }\n",
       "\n",
       "    .dataframe tbody tr th {\n",
       "        vertical-align: top;\n",
       "    }\n",
       "\n",
       "    .dataframe thead th {\n",
       "        text-align: right;\n",
       "    }\n",
       "</style>\n",
       "<table border=\"1\" class=\"dataframe\">\n",
       "  <thead>\n",
       "    <tr style=\"text-align: right;\">\n",
       "      <th></th>\n",
       "      <th>PID</th>\n",
       "      <th>Session</th>\n",
       "      <th>hr</th>\n",
       "      <th>ibi</th>\n",
       "      <th>scl_mean</th>\n",
       "      <th>scl_std</th>\n",
       "      <th>scr_rate</th>\n",
       "      <th>scr_mean</th>\n",
       "      <th>scr_std</th>\n",
       "      <th>scr_max</th>\n",
       "      <th>attention_pct</th>\n",
       "      <th>roi_pct</th>\n",
       "      <th>eye_pct</th>\n",
       "      <th>mouth_pct</th>\n",
       "      <th>theta(4-6Hz)</th>\n",
       "      <th>alpha(6-12Hz)</th>\n",
       "      <th>beta(12-30Hz)</th>\n",
       "    </tr>\n",
       "  </thead>\n",
       "  <tbody>\n",
       "    <tr>\n",
       "      <th>0</th>\n",
       "      <td>810v3</td>\n",
       "      <td>1</td>\n",
       "      <td>105.3878</td>\n",
       "      <td>0.586992</td>\n",
       "      <td>0.135795</td>\n",
       "      <td>0.002620</td>\n",
       "      <td>4.8</td>\n",
       "      <td>0.002369</td>\n",
       "      <td>0.000856</td>\n",
       "      <td>0.003823</td>\n",
       "      <td>0.732833</td>\n",
       "      <td>0.630885</td>\n",
       "      <td>0.126677</td>\n",
       "      <td>0.504207</td>\n",
       "      <td>2.29789</td>\n",
       "      <td>3.45299</td>\n",
       "      <td>5.06147</td>\n",
       "    </tr>\n",
       "    <tr>\n",
       "      <th>1</th>\n",
       "      <td>810v3</td>\n",
       "      <td>2</td>\n",
       "      <td>109.7020</td>\n",
       "      <td>0.551749</td>\n",
       "      <td>0.160803</td>\n",
       "      <td>0.002589</td>\n",
       "      <td>6.0</td>\n",
       "      <td>0.002050</td>\n",
       "      <td>0.001068</td>\n",
       "      <td>0.004093</td>\n",
       "      <td>0.571333</td>\n",
       "      <td>0.158985</td>\n",
       "      <td>0.055426</td>\n",
       "      <td>0.103559</td>\n",
       "      <td>2.50021</td>\n",
       "      <td>4.21554</td>\n",
       "      <td>4.31837</td>\n",
       "    </tr>\n",
       "    <tr>\n",
       "      <th>2</th>\n",
       "      <td>810v3</td>\n",
       "      <td>3</td>\n",
       "      <td>106.7460</td>\n",
       "      <td>0.540129</td>\n",
       "      <td>0.170161</td>\n",
       "      <td>0.001952</td>\n",
       "      <td>6.0</td>\n",
       "      <td>0.001594</td>\n",
       "      <td>0.000397</td>\n",
       "      <td>0.002136</td>\n",
       "      <td>0.224500</td>\n",
       "      <td>0.274684</td>\n",
       "      <td>0.059391</td>\n",
       "      <td>0.215293</td>\n",
       "      <td>2.14248</td>\n",
       "      <td>3.09531</td>\n",
       "      <td>4.69511</td>\n",
       "    </tr>\n",
       "    <tr>\n",
       "      <th>3</th>\n",
       "      <td>810v3</td>\n",
       "      <td>4</td>\n",
       "      <td>103.9156</td>\n",
       "      <td>0.550163</td>\n",
       "      <td>0.149503</td>\n",
       "      <td>0.004595</td>\n",
       "      <td>1.2</td>\n",
       "      <td>0.009058</td>\n",
       "      <td>0.000000</td>\n",
       "      <td>0.009058</td>\n",
       "      <td>0.155167</td>\n",
       "      <td>0.213749</td>\n",
       "      <td>0.136412</td>\n",
       "      <td>0.077336</td>\n",
       "      <td>1.76304</td>\n",
       "      <td>2.32613</td>\n",
       "      <td>4.32117</td>\n",
       "    </tr>\n",
       "    <tr>\n",
       "      <th>4</th>\n",
       "      <td>810v3</td>\n",
       "      <td>5</td>\n",
       "      <td>110.6926</td>\n",
       "      <td>0.534251</td>\n",
       "      <td>0.178208</td>\n",
       "      <td>0.001990</td>\n",
       "      <td>12.0</td>\n",
       "      <td>0.000901</td>\n",
       "      <td>0.000543</td>\n",
       "      <td>0.001931</td>\n",
       "      <td>0.482833</td>\n",
       "      <td>0.498447</td>\n",
       "      <td>0.276838</td>\n",
       "      <td>0.221609</td>\n",
       "      <td>4.21173</td>\n",
       "      <td>3.72262</td>\n",
       "      <td>4.94232</td>\n",
       "    </tr>\n",
       "  </tbody>\n",
       "</table>\n",
       "</div>"
      ],
      "text/plain": [
       "     PID  Session        hr       ibi  scl_mean   scl_std  scr_rate  scr_mean  \\\n",
       "0  810v3        1  105.3878  0.586992  0.135795  0.002620       4.8  0.002369   \n",
       "1  810v3        2  109.7020  0.551749  0.160803  0.002589       6.0  0.002050   \n",
       "2  810v3        3  106.7460  0.540129  0.170161  0.001952       6.0  0.001594   \n",
       "3  810v3        4  103.9156  0.550163  0.149503  0.004595       1.2  0.009058   \n",
       "4  810v3        5  110.6926  0.534251  0.178208  0.001990      12.0  0.000901   \n",
       "\n",
       "    scr_std   scr_max  attention_pct   roi_pct   eye_pct  mouth_pct  \\\n",
       "0  0.000856  0.003823       0.732833  0.630885  0.126677   0.504207   \n",
       "1  0.001068  0.004093       0.571333  0.158985  0.055426   0.103559   \n",
       "2  0.000397  0.002136       0.224500  0.274684  0.059391   0.215293   \n",
       "3  0.000000  0.009058       0.155167  0.213749  0.136412   0.077336   \n",
       "4  0.000543  0.001931       0.482833  0.498447  0.276838   0.221609   \n",
       "\n",
       "   theta(4-6Hz)  alpha(6-12Hz)  beta(12-30Hz)  \n",
       "0       2.29789        3.45299        5.06147  \n",
       "1       2.50021        4.21554        4.31837  \n",
       "2       2.14248        3.09531        4.69511  \n",
       "3       1.76304        2.32613        4.32117  \n",
       "4       4.21173        3.72262        4.94232  "
      ]
     },
     "execution_count": 85,
     "metadata": {},
     "output_type": "execute_result"
    }
   ],
   "source": [
    "feature_df.head()"
   ]
  },
  {
   "cell_type": "code",
   "execution_count": 86,
   "metadata": {},
   "outputs": [],
   "source": [
    "feature_df.to_csv('all_features.csv',index=False)"
   ]
  },
  {
   "cell_type": "code",
   "execution_count": null,
   "metadata": {},
   "outputs": [],
   "source": []
  }
 ],
 "metadata": {
  "kernelspec": {
   "display_name": "Python 3",
   "language": "python",
   "name": "python3"
  },
  "language_info": {
   "codemirror_mode": {
    "name": "ipython",
    "version": 3
   },
   "file_extension": ".py",
   "mimetype": "text/x-python",
   "name": "python",
   "nbconvert_exporter": "python",
   "pygments_lexer": "ipython3",
   "version": "3.6.5"
  }
 },
 "nbformat": 4,
 "nbformat_minor": 2
}
