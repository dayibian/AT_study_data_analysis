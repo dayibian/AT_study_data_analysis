{
 "cells": [
  {
   "cell_type": "code",
   "execution_count": 1,
   "metadata": {},
   "outputs": [],
   "source": [
    "import time\n",
    "import numpy as np\n",
    "import pandas as pd\n",
    "import peakutils as pu\n",
    "from scipy import signal"
   ]
  },
  {
   "cell_type": "code",
   "execution_count": 2,
   "metadata": {},
   "outputs": [],
   "source": [
    "class AV_info:\n",
    "    def __init__(self, filename):\n",
    "        self.stimuli_duration = 50\n",
    "        self.rest_interval = 15\n",
    "        self.startsecs = 0\n",
    "        self.PID = ''\n",
    "        self.stimulus_order = []\n",
    "        self.stimulus_info = ['native_w_touch', 'native_w/o_touch',\n",
    "                              'nonnative_w_touch', 'nonnative_w/o_touch',\n",
    "                              'native_async_w_touch', 'native_async_w/o_touch']\n",
    "        with open(filename, 'r') as f:\n",
    "            self.lines = f.readlines()\n",
    "    def get_start_secs(self):\n",
    "        t = self.lines[1].split()\n",
    "        t = ':'.join(t[0].split(':')[:3])\n",
    "        d = self.lines[16].split()[2]\n",
    "        dt = d + ' ' + t\n",
    "        self.startsecs = time.mktime(time.strptime(dt, '%m/%d/%Y %H:%M:%S'))\n",
    "    def get_PID(self):\n",
    "        self.PID = self.lines[15].split()[2]\n",
    "    def get_order(self):\n",
    "        order = self.lines[18].split()[3:]\n",
    "        self.stimulus_order = [int(o) for o in order]\n",
    "    def process(self):\n",
    "        self.get_start_secs()\n",
    "        self.get_PID()\n",
    "        self.get_order()"
   ]
  },
  {
   "cell_type": "code",
   "execution_count": 3,
   "metadata": {},
   "outputs": [],
   "source": [
    "class Physio_data:\n",
    "    def __init__(self, startsecs, PID):\n",
    "        self.startsecs = startsecs\n",
    "        with open(PID+'/EDA.csv', 'r') as f:\n",
    "            EDA_lines = f.readlines()\n",
    "        with open(PID+'/BVP.csv', 'r') as f:\n",
    "            BVP_lines = f.readlines()\n",
    "        with open(PID+'/HR.csv', 'r') as f:\n",
    "            HR_lines = f.readlines()\n",
    "        with open(PID+'/IBI.csv', 'r') as f:\n",
    "            self.IBI_lines = f.readlines()\n",
    "        self.EDA_ = np.array([float(d.strip()) for d in EDA_lines])\n",
    "        self.BVP_ = np.array([float(d.strip()) for d in BVP_lines])\n",
    "        self.HR_ = np.array([float(d.strip()) for d in HR_lines])\n",
    "        self.IBI_ = pd.read_csv(PID+'/IBI.csv',skiprows=[0],names=['time','ibi'])\n",
    "    def get_EDA(self):\n",
    "        start_time = self.EDA_[0]\n",
    "        freq = int(self.EDA_[1])\n",
    "        offset = int(self.startsecs-start_time)\n",
    "        EDA_ = self.EDA_[offset+2:]\n",
    "        self.EDA = [EDA_[(50+15)*freq*i:(50+15)*freq*i+50*freq] for i in range(6)]\n",
    "    def get_BVP(self):\n",
    "        start_time = self.BVP_[0]\n",
    "        freq = int(self.BVP_[1])\n",
    "        offset = int(self.startsecs-start_time)\n",
    "        BVP_ = self.BVP_[offset+2:]\n",
    "        self.BVP = [BVP_[(50+15)*freq*i:(50+15)*freq*i+50*freq] for i in range(6)]\n",
    "    def get_HR(self):\n",
    "        start_time = self.HR_[0]\n",
    "        freq = int(self.HR_[1])\n",
    "        offset = int(self.startsecs-start_time)\n",
    "        HR_ = self.HR_[offset+2:]\n",
    "        self.HR = [HR_[(50+15)*freq*i:(50+15)*freq*i+50*freq] for i in range(6)]\n",
    "    def get_IBI(self):\n",
    "        start_time = float(self.IBI_lines[0].split(',')[0])\n",
    "        offset = int(self.startsecs-start_time)\n",
    "        time_intervals = [(offset+(50+15)*i, offset+(50+15)*i+50) for i in range(6)]\n",
    "        self.IBI = [[] for _ in range(6)]\n",
    "        for i in range(6):\n",
    "            interval = time_intervals[i]\n",
    "            trial = self.IBI_[self.IBI_.time<interval[1]][self.IBI_.time>interval[0]]\n",
    "            self.IBI[i] = trial.ibi.values\n",
    "    def process(self):\n",
    "        self.get_EDA()\n",
    "        self.get_BVP()\n",
    "        self.get_HR()\n",
    "        self.get_IBI()"
   ]
  },
  {
   "cell_type": "code",
   "execution_count": 4,
   "metadata": {},
   "outputs": [],
   "source": [
    "class Physio_features:\n",
    "    def __init__(self):\n",
    "        self.feature_names = ['hr', 'ibi', 'scl_mean', 'scl_std',\n",
    "                              'scr_rate', 'scr_mean', 'scr_std', 'scr_max']\n",
    "        self.features = [[] for _ in range(6)]\n",
    "    def extract_bvp_fv(self, hrs, ibis):\n",
    "        for i in range(6):\n",
    "            self.features[i].append(np.mean(hrs[i]))\n",
    "            self.features[i].append(np.mean(ibis[i]))\n",
    "    def extract_eda_fv(self, edas):\n",
    "        for i in range(6):\n",
    "            eda = edas[i]\n",
    "            scr,scl = self.decompose_eda(eda)\n",
    "            self.features[i].append(np.mean(scl))\n",
    "            self.features[i].append(np.std(scl))\n",
    "            for fv in self.compute_scr_fv(scr):\n",
    "                self.features[i].append(fv)\n",
    "    def decompose_eda(self, eda):\n",
    "        \"\"\"Decompose EDA signal into SCR and SCL respectively.\"\"\"\n",
    "        if len(eda)<20:\n",
    "            return 'NA','NA'\n",
    "        b,a = signal.butter(4,0.5/2)\n",
    "        gsr_filt = signal.filtfilt(b,a,eda)\n",
    "        b,a = signal.butter(4,0.05/2,'highpass')\n",
    "        scr = signal.filtfilt(b,a,gsr_filt)\n",
    "        scl = [x-y for x,y in zip(gsr_filt,scr)]\n",
    "        return scr,scl\n",
    "    def compute_scr_fv(self, scr):\n",
    "        #peaks = signal.find_peaks_cwt(scr_lp,np.arange(1,20))\n",
    "        if scr == 'NA':\n",
    "            return 'NA','NA','NA','NA'\n",
    "\n",
    "        peaks = pu.indexes(scr,0.6,15)\n",
    "        t = len(scr)/float(4*60)\n",
    "        scr_rate = len(peaks)/t\n",
    "\n",
    "        responses = [scr[i] for i in peaks]\n",
    "        scr_mean = np.mean(responses)\n",
    "        scr_sd = np.std(responses)\n",
    "        scr_max = np.max(responses)\n",
    "        return scr_rate, scr_mean, scr_sd, scr_max"
   ]
  },
  {
   "cell_type": "code",
   "execution_count": 51,
   "metadata": {},
   "outputs": [],
   "source": [
    "class ET_data:\n",
    "    def __init__(self, startsecs, filename):\n",
    "        with open(filename) as f:\n",
    "            lines = f.readlines()\n",
    "        rec_time = lines[13].split('  ')[1]\n",
    "        rec_time = '-'.join(rec_time.split('-')[:3])\n",
    "        rec_date = lines[8].split('  ')[1].strip()\n",
    "        dt = rec_date + ' ' + rec_time\n",
    "        rec_secs = time.mktime(time.strptime(dt, '%m-%d-%Y %H-%M-%S'))\n",
    "        offset = int(startsecs - rec_secs)\n",
    "        self.df = pd.DataFrame(data=[l.split() for l in lines[18+offset*120:]],\n",
    "                        columns=lines[17].split())\n",
    "        self.df = self.df.apply(lambda x:pd.to_numeric(x))\n",
    "    def get_data(self):\n",
    "        freq = 120\n",
    "        self.ETdata = [self.df.iloc[(50+15)*freq*i:(50+15)*freq*i+50*freq, :]\n",
    "                       for i in range(6)]\n",
    "    def process(self):\n",
    "        self.get_data()"
   ]
  },
  {
   "cell_type": "code",
   "execution_count": 48,
   "metadata": {},
   "outputs": [],
   "source": [
    "class ET_features:\n",
    "    def __init__(self):\n",
    "        self.head = ((750,400),(1250,560))\n",
    "        self.mouth = ((850,720),(1130,880))\n",
    "        self.feature_names = ['attention_pct', 'roi_pct', 'head_pct', 'mouth_pct']\n",
    "        self.features = [[] for _ in range(6)]\n",
    "    def extract_feature(self, ETdata):\n",
    "        for i in range(6):\n",
    "            self.features[i].append(self.compute_attention_percentage(ETdata[i]))\n",
    "            self.features[i].append(self.compute_roi_percentage(self.gazePositions))\n",
    "            self.features[i].append(self.compute_eye_pct(self.gazePositions))\n",
    "            self.features[i].append(self.compute_mouth_pct(self.gazePositions))\n",
    "        return self.features\n",
    "    def compute_attention_percentage(self, etdata):\n",
    "        sample_num = len(etdata)\n",
    "        x = []\n",
    "        y = []\n",
    "        for i in range(sample_num):\n",
    "            sample = etdata.iloc[i]\n",
    "            try:\n",
    "                if 0<sample.GazeX<1 and 0<sample.GazeY<1:\n",
    "                    x.append(sample.GazeX)\n",
    "                    y.append(sample.GazeY)\n",
    "            except:\n",
    "                print(sample)\n",
    "        self.gazePositions = list(zip(x,y))\n",
    "        try:\n",
    "            attention_percentage = len(self.gazePositions)/float(sample_num)\n",
    "        except ZeroDivisionError:\n",
    "            attention_percentage = 'NA'\n",
    "        return attention_percentage\n",
    "    def check_hit(self, gazePosition, roi='all'):\n",
    "        gazePosition_pixel = (gazePosition[0]*1920, gazePosition[1]*1080)\n",
    "        hit = False\n",
    "        if roi=='all':\n",
    "            for roi in [self.head, self.mouth]:\n",
    "                if (roi[0][0]<gazePosition_pixel[0]<roi[1][0] and \n",
    "                        roi[0][1]<gazePosition_pixel[1]<roi[1][1]):\n",
    "                    hit = True\n",
    "                    break\n",
    "        elif roi=='mouth':\n",
    "            for roi in [self.mouth]:\n",
    "                if (roi[0][0]<gazePosition_pixel[0]<roi[1][0] and \n",
    "                        roi[0][1]<gazePosition_pixel[1]<roi[1][1]):\n",
    "                    hit = True\n",
    "                    break\n",
    "        elif roi=='head':\n",
    "            for roi in [self.head]:\n",
    "                if (roi[0][0]<gazePosition_pixel[0]<roi[1][0] and \n",
    "                        roi[0][1]<gazePosition_pixel[1]<roi[1][1]):\n",
    "                    hit = True\n",
    "                    break\n",
    "        return hit\n",
    "    def compute_roi_percentage(self, gazePositions):\n",
    "        sample_num = len(gazePositions)\n",
    "        hit_num = 0\n",
    "        for gazePosition in gazePositions:\n",
    "            if self.check_hit(gazePosition, 'all'):\n",
    "                hit_num += 1\n",
    "        try:\n",
    "            hit_percentage = hit_num/float(sample_num)\n",
    "        except ZeroDivisionError:\n",
    "            hit_percentage = 'NA'\n",
    "        return hit_percentage\n",
    "    def compute_eye_pct(self, gazePositions):\n",
    "        sample_num = len(gazePositions)\n",
    "        hit_num = 0\n",
    "        for gazePosition in gazePositions:\n",
    "            if self.check_hit(gazePosition, 'head'):\n",
    "                hit_num += 1\n",
    "        try:\n",
    "            hit_percentage = hit_num/float(sample_num)\n",
    "        except ZeroDivisionError:\n",
    "            hit_percentage = 'NA'\n",
    "        return hit_percentage\n",
    "    def compute_mouth_pct(self, gazePositions):\n",
    "        sample_num = len(gazePositions)\n",
    "        hit_num = 0\n",
    "        for gazePosition in gazePositions:\n",
    "            if self.check_hit(gazePosition, 'mouth'):\n",
    "                hit_num += 1\n",
    "        try:\n",
    "            hit_percentage = hit_num/float(sample_num)\n",
    "        except ZeroDivisionError:\n",
    "            hit_percentage = 'NA'\n",
    "        return hit_percentage"
   ]
  },
  {
   "cell_type": "code",
   "execution_count": 71,
   "metadata": {},
   "outputs": [],
   "source": [
    "PIDs = ['810v3', '817v4', '818v4', '822v3', '824v3', '826v3', '827v3', '829v2',\n",
    "        '830v3', '832v2', '833v3', '835v3', '838v3', '843v2', '844v2', '845',\n",
    "        '847', '848', '849']"
   ]
  },
  {
   "cell_type": "code",
   "execution_count": 8,
   "metadata": {},
   "outputs": [],
   "source": [
    "from pathlib import Path"
   ]
  },
  {
   "cell_type": "code",
   "execution_count": 9,
   "metadata": {},
   "outputs": [],
   "source": [
    "data_path = Path('../MADCAP_DATA')"
   ]
  },
  {
   "cell_type": "code",
   "execution_count": 69,
   "metadata": {},
   "outputs": [],
   "source": [
    "folder = data_path/'823v3'"
   ]
  },
  {
   "cell_type": "code",
   "execution_count": 70,
   "metadata": {},
   "outputs": [],
   "source": [
    "et_file=list(folder.glob('*.dat'))[0]"
   ]
  },
  {
   "cell_type": "code",
   "execution_count": 71,
   "metadata": {},
   "outputs": [],
   "source": [
    "txt_file=list(folder.glob('txt*.txt'))[0]"
   ]
  },
  {
   "cell_type": "code",
   "execution_count": 72,
   "metadata": {},
   "outputs": [],
   "source": [
    "avInfo=AV_info(txt_file)\n",
    "avInfo.process()"
   ]
  },
  {
   "cell_type": "code",
   "execution_count": 73,
   "metadata": {},
   "outputs": [],
   "source": [
    "etData = ET_data(avInfo.startsecs, et_file)\n",
    "etData.process()"
   ]
  },
  {
   "cell_type": "code",
   "execution_count": 74,
   "metadata": {},
   "outputs": [],
   "source": [
    "etFeature=ET_features()"
   ]
  },
  {
   "cell_type": "code",
   "execution_count": 75,
   "metadata": {},
   "outputs": [
    {
     "data": {
      "text/plain": [
       "[[0.464, 0.4267241379310345, 0.31214080459770116, 0.11458333333333333],\n",
       " [0.049, 0.5170068027210885, 0.18027210884353742, 0.336734693877551],\n",
       " [0.2285, 0.5010940919037199, 0.36177972283005105, 0.13931436907366884],\n",
       " [0.09316666666666666,\n",
       "  0.1556350626118068,\n",
       "  0.13953488372093023,\n",
       "  0.016100178890876567],\n",
       " [0.4445, 0.2857142857142857, 0.029996250468691414, 0.2557180352455943],\n",
       " [0.25033333333333335,\n",
       "  0.6025299600532623,\n",
       "  0.16644474034620507,\n",
       "  0.43608521970705727]]"
      ]
     },
     "execution_count": 75,
     "metadata": {},
     "output_type": "execute_result"
    }
   ],
   "source": [
    "etFeature.extract_feature(etData.ETdata)"
   ]
  },
  {
   "cell_type": "code",
   "execution_count": 19,
   "metadata": {},
   "outputs": [],
   "source": [
    "d=etData.ETdata"
   ]
  },
  {
   "cell_type": "code",
   "execution_count": 22,
   "metadata": {},
   "outputs": [
    {
     "data": {
      "text/plain": [
       "6000"
      ]
     },
     "execution_count": 22,
     "metadata": {},
     "output_type": "execute_result"
    }
   ],
   "source": [
    "len(d[5])"
   ]
  },
  {
   "cell_type": "code",
   "execution_count": 40,
   "metadata": {},
   "outputs": [
    {
     "data": {
      "text/plain": [
       "[[0.0, 'NA'], [], [], [], [], []]"
      ]
     },
     "execution_count": 40,
     "metadata": {},
     "output_type": "execute_result"
    }
   ],
   "source": [
    "etFeature.features"
   ]
  },
  {
   "cell_type": "code",
   "execution_count": null,
   "metadata": {},
   "outputs": [],
   "source": []
  }
 ],
 "metadata": {
  "kernelspec": {
   "display_name": "Python 3",
   "language": "python",
   "name": "python3"
  },
  "language_info": {
   "codemirror_mode": {
    "name": "ipython",
    "version": 3
   },
   "file_extension": ".py",
   "mimetype": "text/x-python",
   "name": "python",
   "nbconvert_exporter": "python",
   "pygments_lexer": "ipython3",
   "version": "3.6.5"
  }
 },
 "nbformat": 4,
 "nbformat_minor": 2
}
